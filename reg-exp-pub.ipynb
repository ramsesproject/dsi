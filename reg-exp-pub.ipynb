{
 "cells": [
  {
   "cell_type": "code",
   "execution_count": 2,
   "metadata": {},
   "outputs": [],
   "source": [
    "import globus_sdk, os, json, time, h5py, pickle\n",
    "import pandas as pd\n",
    "from matplotlib import pyplot as plt\n",
    "import numpy as np"
   ]
  },
  {
   "cell_type": "code",
   "execution_count": null,
   "metadata": {},
   "outputs": [],
   "source": [
    "# please follow tutorial here \n",
    "# https://globus-sdk-python.readthedocs.io/en/stable/tutorial/\n",
    "# to obtain your client ID\n",
    "\n",
    "# invalid ID, obtain your own please\n",
    "CLIENT_ID = \"02cd98fb-d0d3-444c-ba2b-cf8609a92c2b\" \n",
    "client = globus_sdk.NativeAppAuthClient(CLIENT_ID)\n",
    "client.oauth2_start_flow()\n",
    "\n",
    "authorize_url = client.oauth2_get_authorize_url()\n",
    "print('Please go to this URL and login: {0}'.format(authorize_url))\n",
    "\n",
    "get_input = getattr(__builtins__, 'raw_input', input)\n",
    "auth_code = get_input('Please enter the code you get after login here: ').strip()\n",
    "token_response = client.oauth2_exchange_code_for_tokens(auth_code)\n",
    "\n",
    "globus_auth_data = token_response.by_resource_server['auth.globus.org']\n",
    "globus_transfer_data = token_response.by_resource_server['transfer.api.globus.org']\n",
    "\n",
    "# most specifically, you want these tokens as strings\n",
    "AUTH_TOKEN = globus_auth_data['access_token']\n",
    "TRANSFER_TOKEN = globus_transfer_data['access_token']\n",
    "\n",
    "authorizer = globus_sdk.AccessTokenAuthorizer(TRANSFER_TOKEN)\n",
    "tc = globus_sdk.TransferClient(authorizer=authorizer)\n",
    "\n",
    "# dump & save the token for future experiments, it valids for 3 days \n",
    "with open('globus-transfer-client.pkl', 'wb') as filehandler:\n",
    "    pickle.dump(tc, filehandler)"
   ]
  },
  {
   "cell_type": "code",
   "execution_count": null,
   "metadata": {},
   "outputs": [],
   "source": [
    "my_dtns = {}\n",
    "for ep in tc.endpoint_search(filter_scope=\"administered-by-me\"):\n",
    "    print(\"{} {}\".format(ep[\"id\"], ep[\"display_name\"]))\n",
    "    my_dtns[ep[\"display_name\"]] = ep[\"id\"]\n",
    "\n",
    "# if not administered by yourself, you can add your connectors manully \n",
    "my_dtns['posix'] = '33c03015-2a4d-4165-848a-74ac2133b708' "
   ]
  },
  {
   "cell_type": "code",
   "execution_count": null,
   "metadata": {},
   "outputs": [],
   "source": [
    "# when transfer is done, this function extracted all needed information for regression analysis \n",
    "def avg_throughput(tc, tid, label=None):\n",
    "    task_info = tc.get_task(tid)\n",
    "    trs_sz = task_info['bytes_transferred']\n",
    "\n",
    "    task_list = list(tc.task_event_list(tid))\n",
    "    if (task_list[0]['code'] == 'SUCCEEDED' and task_list[-1]['code']=='STARTED'):\n",
    "        elapse = (pd.to_datetime(task_list[0]['time']) - pd.to_datetime(task_list[-1]['time'])).total_seconds()\n",
    "    else:\n",
    "        print('[WARN] %s is not a normal started/completed task' % tid)\n",
    "        elapse = (pd.to_datetime(task_info['completion_time']) - \\\n",
    "                  pd.to_datetime(task_info['request_time'])).total_seconds()\n",
    "        \n",
    "    print('[%s] Avg. rate of transferring %.1f MiB from %s to %s is %.2f Mbps %s' % (\\\n",
    "          '' if label is None else label, \\\n",
    "          trs_sz*2**-20, task_info['source_endpoint_display_name'], \\\n",
    "          task_info['destination_endpoint_display_name'], \\\n",
    "          8 * trs_sz / elapse*1e-6, tid))"
   ]
  },
  {
   "cell_type": "code",
   "execution_count": null,
   "metadata": {},
   "outputs": [],
   "source": [
    "def globus_trs_files(src_id, dst_id, tc, src_fns, dst_fns, label=None):\n",
    "    if len(src_fns) != len(dst_fns):\n",
    "        print('Source and desitnation file names do not match')\n",
    "    if label is None:\n",
    "        label = 'gcon-exp-%d files' % (len(src_fns), )\n",
    "    tdata = globus_sdk.TransferData(tc, src_id, dst_id, preserve_timestamp=False, \n",
    "                                    label = label)\n",
    "    for _sfn, _dfn in zip(src_fns, dst_fns):\n",
    "        tdata.add_item(_sfn, _dfn, recursive=False)\n",
    "\n",
    "    return tc.submit_transfer(tdata)    "
   ]
  },
  {
   "cell_type": "markdown",
   "metadata": {},
   "source": [
    "## upload to wasabi for regression test"
   ]
  },
  {
   "cell_type": "code",
   "execution_count": null,
   "metadata": {},
   "outputs": [],
   "source": [
    "for _nf in (1, 50, 100, 200, 400, 600, 800, 1000)[1:]:\n",
    "    sfn_10g_cc = [\"/data/ds-5g/%04d-files/%04d.bin\" %  (_nf, i) for i in range(_nf)]\n",
    "    dfn_10g_ws = [\"/boto3/5g-%04d-files/%04d.bin\" % (_nf, i) for i in range(_nf)]\n",
    "\n",
    "    gtrs_inst = globus_trs_files(my_dtns['posix'], my_dtns['WASABI-ZLIU'], tc, \\\n",
    "                                 sfn_10g_cc, dfn_10g_ws,\\\n",
    "                                 label = 'upload %d files to wasabi' % len(sfn_10g_cc))\n",
    "    while not tc.task_wait(gtrs_inst['task_id'], timeout=7200, polling_interval=10): continue\n",
    "    avg_throughput(tc, gtrs_inst['task_id'], label='%d files uploaded to wasabi' % len(sfn_10g_cc)) "
   ]
  },
  {
   "cell_type": "markdown",
   "metadata": {},
   "source": [
    "## download from wasabi for regression test"
   ]
  },
  {
   "cell_type": "code",
   "execution_count": null,
   "metadata": {},
   "outputs": [],
   "source": [
    "for _nf in (50, 100, 200, 400, 600, 800, 1000):\n",
    "    dfn_5g_cc = [\"/data/dl-tmp/%04d.bin\" %  (i) for i in range(_nf)]\n",
    "    sfn_5g_ws = [\"/boto3/5g-%04d-files/%04d.bin\" % (_nf, i) for i in range(_nf)]\n",
    "\n",
    "    gtrs_inst = globus_trs_files(my_dtns['WASABI-ZLIU'], my_dtns['posix'], tc, \\\n",
    "                                 sfn_5g_ws, dfn_5g_cc,\\\n",
    "                                 label = 'download %d files from wasabi' % len(dfn_5g_cc))\n",
    "    while not tc.task_wait(gtrs_inst['task_id'], timeout=7200, polling_interval=10): continue\n",
    "    avg_throughput(tc, gtrs_inst['task_id'], label='%d files downloaded to wasabi' % len(dfn_5g_cc)) "
   ]
  },
  {
   "cell_type": "code",
   "execution_count": null,
   "metadata": {},
   "outputs": [],
   "source": []
  },
  {
   "cell_type": "markdown",
   "metadata": {},
   "source": [
    "The process for all other connectors are the same, just need to change the endpoint name"
   ]
  },
  {
   "cell_type": "code",
   "execution_count": null,
   "metadata": {},
   "outputs": [],
   "source": []
  }
 ],
 "metadata": {
  "kernelspec": {
   "display_name": "Python 3",
   "language": "python",
   "name": "python3"
  },
  "language_info": {
   "codemirror_mode": {
    "name": "ipython",
    "version": 3
   },
   "file_extension": ".py",
   "mimetype": "text/x-python",
   "name": "python",
   "nbconvert_exporter": "python",
   "pygments_lexer": "ipython3",
   "version": "3.7.3"
  }
 },
 "nbformat": 4,
 "nbformat_minor": 4
}
